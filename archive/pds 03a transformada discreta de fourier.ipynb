{
 "cells": [
  {
   "cell_type": "code",
   "execution_count": 2,
   "metadata": {
    "executionInfo": {
     "elapsed": 817,
     "status": "ok",
     "timestamp": 1602113610835,
     "user": {
      "displayName": "Roberto Hassell",
      "photoUrl": "https://lh3.googleusercontent.com/-0kWW5dssnE8/AAAAAAAAAAI/AAAAAAAAAj0/nW6J04kFmFA/s64/photo.jpg",
      "userId": "17572397621764271091"
     },
     "user_tz": 300
    },
    "id": "1v5cIEfUTJK-"
   },
   "outputs": [],
   "source": [
    "import numpy as np\n",
    "import matplotlib.pyplot as plt\n",
    "import scipy.fft as fft"
   ]
  },
  {
   "cell_type": "markdown",
   "metadata": {
    "id": "t-_Q_USOchhg"
   },
   "source": [
    "## Parámetros de la señal analógica y el muestreo\n",
    "\n",
    "*F1*: frecuencia del primer senoidal = 1 Hz\n",
    "\n",
    "*F2*: frecuencia del segundo senoidal = 2 Hz\n",
    "\n",
    "\n",
    "Escogemos la frecuencia de muestreo como el doble de la componente de mayor frecuencia\n",
    "\n",
    "$ F_S = F2 * 2 $\n",
    "\n",
    "Y por lo tanto, el período de muestreo es el inverso de esta frecuencia:\n",
    "\n",
    "$ T_S = 1 / F_S $\n",
    "\n",
    "Debemos calcular la distancia entre muestras en el dominio de la frecuencia:\n",
    "\n",
    "$ d_f = 1 / T_S $\n",
    "\n",
    "Escogemos un número de muestras significativo, para que sea una potencia de 2 y sea un número suficiente\n",
    "\n",
    "`N = 2**8`\n",
    "\n",
    "equivale a \n",
    "\n",
    "$ N = 2^8 = 256 $\n",
    "\n",
    "\n",
    "El tiempo total que muestrearemos la señal depende del número de muestras (N) y del tiempo de muestreo:\n",
    "\n",
    "\n",
    "$ T_{total} = Ts * N $ \n",
    "\n",
    "\n",
    "Generamos en el vector de tiempo para las muestras:\n",
    "\n",
    "`ts = np.arange(0, T_total, Ts)`\n",
    "\n",
    "Esto genera muestras espaciadas por $ T_S $ segundos, desde 0 hasta $ T_{total} $\n",
    "\n",
    "\n",
    "Finalmente, generamos la señal muestreada y la graficamos:\n",
    "\n",
    "\n",
    "```\n",
    "ss = np.cos(2*np.pi*F1*ts) + np.cos(2*np.pi*F2*ts)\n",
    "plt.stem(ts, ss)\n",
    "```\n"
   ]
  },
  {
   "cell_type": "code",
   "execution_count": 4,
   "metadata": {
    "colab": {
     "base_uri": "https://localhost:8080/",
     "height": 319
    },
    "executionInfo": {
     "elapsed": 2639,
     "status": "ok",
     "timestamp": 1602113626369,
     "user": {
      "displayName": "Roberto Hassell",
      "photoUrl": "https://lh3.googleusercontent.com/-0kWW5dssnE8/AAAAAAAAAAI/AAAAAAAAAj0/nW6J04kFmFA/s64/photo.jpg",
      "userId": "17572397621764271091"
     },
     "user_tz": 300
    },
    "id": "VltOaBpPuW9T",
    "outputId": "9a0dfe3d-21b9-4ea4-f1fa-e6f7103f24d1"
   },
   "outputs": [
    {
     "name": "stderr",
     "output_type": "stream",
     "text": [
      "/usr/local/lib/python3.6/dist-packages/ipykernel_launcher.py:17: UserWarning: In Matplotlib 3.3 individual lines on a stem plot will be added as a LineCollection instead of individual lines. This significantly improves the performance of a stem plot. To remove this warning and switch to the new behaviour, set the \"use_line_collection\" keyword argument to True.\n"
     ]
    },
    {
     "data": {
      "text/plain": [
       "<StemContainer object of 3 artists>"
      ]
     },
     "execution_count": 4,
     "metadata": {
      "tags": []
     },
     "output_type": "execute_result"
    },
    {
     "data": {
      "image/png": "[encoded data removed]",
      "text/plain": [
       "<Figure size 432x288 with 1 Axes>"
      ]
     },
     "metadata": {
      "needs_background": "light",
      "tags": []
     },
     "output_type": "display_data"
    }
   ],
   "source": [
    "F1 = 1\n",
    "F2 = 2\n",
    "\n",
    "\n",
    "Fs = F2*2\n",
    "Ts = 1/Fs\n",
    "\n",
    "df = 1/Ts\n",
    "\n",
    "\n",
    "N = 2**10\n",
    "\n",
    "T_total = Ts * N\n",
    "ts = np.arange(0, T_total, Ts)\n",
    "\n",
    "ss = np.cos(2*np.pi*F1*ts) + np.cos(2*np.pi*F2*ts)\n",
    "plt.stem(ts, ss)"
   ]
  },
  {
   "cell_type": "markdown",
   "metadata": {
    "id": "rfKhg8QJchhl"
   },
   "source": [
    "## Cálculo del espectro\n",
    "\n",
    "Para calcular el espectro, vamos a usar algunas funciones de la librería scipy (Scientific Python).\n",
    "Recuerde importar al inicio la librería:\n",
    "```\n",
    "import scipy.fft as fft \n",
    "```\n",
    "\n",
    "En las líneas siguientes se muestra:\n",
    "\n",
    "`S = fft.fft(ss) / len(ss)`\n",
    "\n",
    "Esto permite aplicar la transformada rápida de Fourier (FFT) sobre la señal ss. Luego de ello, dividimos entre el tamaño de este vector para ajustar la amplitud. \n",
    "\n",
    "`S = fft.fftshift(S)`\n",
    "\n",
    "Esta función nos permite que el espectro aparezca con sus componentes de frecuencia en las posiciones correctas.\n",
    "\n",
    "\n",
    "`S_mag = np.abs(S)`\n",
    "\n",
    "Nos interesa graficar solamente la magnitud de la señal, ya que usualmente la transformada es un vector de números complejos.\n",
    "\n",
    "`f = np.linspace(-df/2, df/2, N)`\n",
    "\n",
    "Esto nos permite generar un vector en el dominio de la frecuencia, que va desde -df/2, hasta df/2, compuesto por N muestras.\n",
    "\n",
    "Finalmente, graficamos con  `plt.plot(f, S_mag)`"
   ]
  },
  {
   "cell_type": "code",
   "execution_count": null,
   "metadata": {
    "colab": {
     "base_uri": "https://localhost:8080/",
     "height": 282
    },
    "executionInfo": {
     "elapsed": 31508,
     "status": "ok",
     "timestamp": 1602016082635,
     "user": {
      "displayName": "Roberto Hassell",
      "photoUrl": "https://lh3.googleusercontent.com/-0kWW5dssnE8/AAAAAAAAAAI/AAAAAAAAAj0/nW6J04kFmFA/s64/photo.jpg",
      "userId": "17572397621764271091"
     },
     "user_tz": 300
    },
    "id": "feuRWknKxYtZ",
    "outputId": "83f00b6e-a7f9-4080-c748-0b194d19a00b"
   },
   "outputs": [
    {
     "data": {
      "text/plain": [
       "[<matplotlib.lines.Line2D at 0x7f496a8389b0>]"
      ]
     },
     "execution_count": 3,
     "metadata": {
      "tags": []
     },
     "output_type": "execute_result"
    },
    {
     "data": {
      "image/png": "[encoded data removed]",
      "text/plain": [
       "<Figure size 432x288 with 1 Axes>"
      ]
     },
     "metadata": {
      "needs_background": "light",
      "tags": []
     },
     "output_type": "display_data"
    }
   ],
   "source": [
    "S = fft.fft(ss) / len(ss)\n",
    "S = fft.fftshift(S)\n",
    "S_mag = np.abs(S)\n",
    "f = np.linspace(-df/2, df/2, N)\n",
    "plt.plot(f, S_mag)\n",
    "\n"
   ]
  },
  {
   "cell_type": "markdown",
   "metadata": {
    "executionInfo": {
     "elapsed": 4784,
     "status": "ok",
     "timestamp": 1601839814122,
     "user": {
      "displayName": "Roberto Hassell",
      "photoUrl": "https://lh3.googleusercontent.com/-0kWW5dssnE8/AAAAAAAAAAI/AAAAAAAAAj0/nW6J04kFmFA/s64/photo.jpg",
      "userId": "17572397621764271091"
     },
     "user_tz": 300
    },
    "id": "MMqGyDCqx7e2"
   },
   "source": [
    "Observe que este espectro está correcto (las componentes de frecuencia están en 1 y 2 Hz), pero aparece de forma incorrecta en 2 Hz. Esto ocurre porque la frecuencia de muestreo (Fs) coincide exactamente con la mayor frecuencia. Utilizaremos una frecuencia de muestreo un poco más alta para ver la forma que toma este espectro."
   ]
  },
  {
   "cell_type": "code",
   "execution_count": null,
   "metadata": {
    "colab": {
     "base_uri": "https://localhost:8080/",
     "height": 567
    },
    "executionInfo": {
     "elapsed": 31502,
     "status": "ok",
     "timestamp": 1602016082635,
     "user": {
      "displayName": "Roberto Hassell",
      "photoUrl": "https://lh3.googleusercontent.com/-0kWW5dssnE8/AAAAAAAAAAI/AAAAAAAAAj0/nW6J04kFmFA/s64/photo.jpg",
      "userId": "17572397621764271091"
     },
     "user_tz": 300
    },
    "id": "nDBUM9V0chhq",
    "outputId": "cadac859-901b-4e18-a370-0e009dc952b6"
   },
   "outputs": [
    {
     "name": "stderr",
     "output_type": "stream",
     "text": [
      "/usr/local/lib/python3.6/dist-packages/ipykernel_launcher.py:17: UserWarning: In Matplotlib 3.3 individual lines on a stem plot will be added as a LineCollection instead of individual lines. This significantly improves the performance of a stem plot. To remove this warning and switch to the new behaviour, set the \"use_line_collection\" keyword argument to True.\n"
     ]
    },
    {
     "data": {
      "text/plain": [
       "[<matplotlib.lines.Line2D at 0x7f496a9c7c50>]"
      ]
     },
     "execution_count": 4,
     "metadata": {
      "tags": []
     },
     "output_type": "execute_result"
    },
    {
     "data": {
      "image/png": "[encoded data removed]",
      "text/plain": [
       "<Figure size 432x288 with 1 Axes>"
      ]
     },
     "metadata": {
      "needs_background": "light",
      "tags": []
     },
     "output_type": "display_data"
    },
    {
     "data": {
      "image/png": "[encoded data removed]",
      "text/plain": [
       "<Figure size 432x288 with 1 Axes>"
      ]
     },
     "metadata": {
      "needs_background": "light",
      "tags": []
     },
     "output_type": "display_data"
    }
   ],
   "source": [
    "F1 = 1\n",
    "F2 = 2\n",
    "\n",
    "\n",
    "Fs = F2*2.1\n",
    "Ts = 1/Fs\n",
    "\n",
    "df = 1/Ts\n",
    "\n",
    "\n",
    "N = 2**10\n",
    "\n",
    "T_total = Ts * N\n",
    "ts = np.arange(0, T_total, Ts)\n",
    "\n",
    "ss = np.cos(2*np.pi*F1*ts) + np.cos(2*np.pi*F2*ts)\n",
    "plt.stem(ts, ss)\n",
    "\n",
    "S = fft.fft(ss) / len(ss)\n",
    "S = fft.fftshift(S)\n",
    "S_mag = np.abs(S)\n",
    "f = np.linspace(-df/2, df/2, N)\n",
    "\n",
    "plt.figure()\n",
    "plt.plot(f, S_mag)\n"
   ]
  },
  {
   "cell_type": "code",
   "execution_count": null,
   "metadata": {
    "id": "RtW1mYR6chhu"
   },
   "outputs": [],
   "source": []
  }
 ],
 "metadata": {
  "colab": {
   "collapsed_sections": [],
   "name": "ps 03a transformada discreta de fourier.ipynb",
   "provenance": []
  },
  "kernelspec": {
   "display_name": "Python 3 (ipykernel)",
   "language": "python",
   "name": "python3"
  },
  "language_info": {
   "codemirror_mode": {
    "name": "ipython",
    "version": 3
   },
   "file_extension": ".py",
   "mimetype": "text/x-python",
   "name": "python",
   "nbconvert_exporter": "python",
   "pygments_lexer": "ipython3",
   "version": "3.8.13"
  },
  "nteract": {
   "version": "0.21.0"
  }
 },
 "nbformat": 4,
 "nbformat_minor": 1
}
